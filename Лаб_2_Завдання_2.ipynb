{
  "cells": [
    {
      "cell_type": "markdown",
      "metadata": {
        "id": "view-in-github",
        "colab_type": "text"
      },
      "source": [
        "<a href=\"https://colab.research.google.com/github/TheMasterLipi/ML-LABS/blob/main/%D0%9B%D0%B0%D0%B1_2_%D0%97%D0%B0%D0%B2%D0%B4%D0%B0%D0%BD%D0%BD%D1%8F_2.ipynb\" target=\"_parent\"><img src=\"https://colab.research.google.com/assets/colab-badge.svg\" alt=\"Open In Colab\"/></a>"
      ]
    },
    {
      "cell_type": "markdown",
      "metadata": {
        "id": "48oVF0ACs99U"
      },
      "source": [
        "#  Лабораторна робота №2\n",
        "### навчально-методичний додаток (продовження)\n",
        "***"
      ]
    },
    {
      "cell_type": "markdown",
      "metadata": {
        "id": "a4bvfx-ls99X"
      },
      "source": [
        "## Структури даних"
      ]
    },
    {
      "cell_type": "markdown",
      "metadata": {
        "id": "f3R2Yf20s99X"
      },
      "source": [
        "###  Списки - List\n",
        "\n",
        "__Списки__ - це найбільш часто використовувана структура даних. \n",
        "\n",
        "Це послідовність даних, яка укладена у квадратні дужки, а дані відокремлюються комою. До кожного з цих даних можна отримати доступ, викликавши його значення по індексу.\n",
        "Списки оголошуються просто прирівнюючи змінну до '[]' або списку.\n",
        "\n",
        "```spisok = [obj1, obj2, ..., objN]```, де obj - будь-який допустимий python-об'єкт\n",
        "\n",
        "spisok = [1, -0.12, \"Вася\", [42, \"Пупкін\"], False ]\n",
        "\n",
        "[Докладніше про списки в Python](https://devpractice.ru/python-lesson-7-work-with-list/)"
      ]
    },
    {
      "cell_type": "code",
      "execution_count": null,
      "metadata": {
        "id": "2EmGijwis99Y"
      },
      "outputs": [],
      "source": [
        "a = []\n",
        "print (type(a))"
      ]
    },
    {
      "cell_type": "markdown",
      "metadata": {
        "id": "KWrnw2oks99Z"
      },
      "source": [
        "### операції над списками\n",
        "\n",
        "1. ```+``` - __додавання__: приєднує один список до другого\n",
        "2. ```*``` - __множення__ : розшірює список вправо на множник"
      ]
    },
    {
      "cell_type": "code",
      "execution_count": null,
      "metadata": {
        "id": "YH6SfEiKs99a"
      },
      "outputs": [],
      "source": [
        "a = [1,2,3] + [3, 4]\n",
        "b = a * 2"
      ]
    },
    {
      "cell_type": "code",
      "execution_count": null,
      "metadata": {
        "id": "mW4zv7K7s99a"
      },
      "outputs": [],
      "source": [
        "print(\"a = \", a)\n",
        "print(\"b = \", b)"
      ]
    },
    {
      "cell_type": "code",
      "execution_count": 2,
      "metadata": {
        "run_control": {
          "marked": false
        },
        "colab": {
          "base_uri": "https://localhost:8080/"
        },
        "id": "l-fcA8Ews99b",
        "outputId": "e91d3332-66ae-49ac-c554-dcd9fb9ed731"
      },
      "outputs": [
        {
          "output_type": "stream",
          "name": "stdout",
          "text": [
            "140622290815488\n",
            "140622290815488\n"
          ]
        }
      ],
      "source": [
        "### ЗАВДАННЯ 1: \n",
        "# 1) створити пустий список `i_am`\n",
        "# 2) записати в нього своє ім'я\n",
        "# 3) вивести `id` списка\n",
        "# 4) додати до списка другий елемент з своїм прізвищем\n",
        "# 5) вивести отриманий список то його `id`\n",
        "\n",
        "i_am = []\n",
        "i_am.append(\"Єгор\")\n",
        "print(id(i_am))\n",
        "i_am.append(\"Бригинець\")\n",
        "print(id(i_am))"
      ]
    },
    {
      "cell_type": "markdown",
      "metadata": {
        "id": "Ye8U_BN8s99b"
      },
      "source": [
        "### Особливості зберігання даних в списках\n",
        "\n",
        "Списки - не змінюють свое `id` при зміні значень, або кількості елементів"
      ]
    },
    {
      "cell_type": "markdown",
      "metadata": {
        "id": "GJINz5f8s99c"
      },
      "source": [
        "### Індексація в списках\n",
        "\n",
        "__Індексація__ - це метод доступу до окремого єлементу в списку. Елементи в списках нумеруються з 0, а доступ до них здійснюється через номер в квадратних дужках.\n",
        "\n",
        "name = \"Вася Пупкін\"\n",
        "name[5]"
      ]
    },
    {
      "cell_type": "code",
      "execution_count": null,
      "metadata": {
        "scrolled": true,
        "id": "ILbIeIGbs99c"
      },
      "outputs": [],
      "source": [
        "n = [1,2,3,4,5]\n",
        "print(n[3], id(n))\n",
        "n[3] = 99999\n",
        "print(n, id(n))"
      ]
    },
    {
      "cell_type": "markdown",
      "metadata": {
        "id": "KBi99mwys99d"
      },
      "source": [
        "Індекси можуть бути відємними"
      ]
    },
    {
      "cell_type": "code",
      "execution_count": null,
      "metadata": {
        "id": "TVt8cM2bs99d"
      },
      "outputs": [],
      "source": [
        "print(n[-2])\n",
        "n[-2] = 4\n",
        "print(n)"
      ]
    },
    {
      "cell_type": "markdown",
      "metadata": {
        "id": "9rM6cMnSs99e"
      },
      "source": [
        "#### срізи в списках\n",
        "\n",
        "__Срізи__ - це метод виділення зі списка іншого списка по заданому діапазону індексів\n",
        "\n",
        "spisok[<начало> : <кінець> : <шаг>]"
      ]
    },
    {
      "cell_type": "code",
      "execution_count": null,
      "metadata": {
        "scrolled": false,
        "id": "GHeh3FwRs99e",
        "outputId": "88fcad9e-a640-42cc-f530-00ad14ad8691"
      },
      "outputs": [
        {
          "name": "stdout",
          "output_type": "stream",
          "text": [
            "n =  [1, 2, 3, 4, 5]\n",
            "m =  [4, 5]\n",
            "k =  [1, 2, 3, 4]\n",
            "l =  [1, 3, 5]\n"
          ]
        }
      ],
      "source": [
        "n * 2\n",
        "print(\"n = \", n)\n",
        "\n",
        "m = n[3:5]\n",
        "print(\"m = \", m)\n",
        "\n",
        "k = n[:4]\n",
        "print(\"k = \", k)\n",
        "\n",
        "l = n[: : 2]\n",
        "print(\"l = \", l)"
      ]
    },
    {
      "cell_type": "code",
      "execution_count": 3,
      "metadata": {
        "run_control": {
          "marked": false
        },
        "colab": {
          "base_uri": "https://localhost:8080/"
        },
        "id": "mb3S_fles99g",
        "outputId": "fe540cd6-5a4b-4075-f6b4-5d60b7f0621c"
      },
      "outputs": [
        {
          "output_type": "stream",
          "name": "stdout",
          "text": [
            "[1, 2, 3, 4, 5]\n",
            "[5, 6, 7, 8, 9, 10]\n",
            "[2, 4, 6, 8, 10]\n"
          ]
        }
      ],
      "source": [
        "### ЗАВДАННЯ 3: \n",
        "\n",
        "# 1) створити список із 10 натуральних чисел [1..10]\n",
        "lst = [1,2,3,4,5,6,7,8,9,10]\n",
        "\n",
        "# 2) написати код що виводить перші 5 єлементів\n",
        "print(lst[:5])\n",
        "\n",
        "# 3) написати код що виводить останні 6 єлементів\n",
        "print(lst[-6:])\n",
        "\n",
        "# 4) написати код що виводить всі парні єлементи\n",
        "print([i for i in lst if i%2==0])\n"
      ]
    },
    {
      "cell_type": "markdown",
      "metadata": {
        "id": "rca_B1f1s99g"
      },
      "source": [
        "#### функції і методи спісків"
      ]
    },
    {
      "cell_type": "code",
      "execution_count": null,
      "metadata": {
        "id": "t_Hc9we5s99g",
        "outputId": "3a0f804d-c816-48a4-c555-745bd1c904af"
      },
      "outputs": [
        {
          "name": "stdout",
          "output_type": "stream",
          "text": [
            "[0, 1, 2, 3, 4]\n"
          ]
        }
      ],
      "source": [
        "l = list(range(5))\n",
        "print(l)"
      ]
    },
    {
      "cell_type": "code",
      "execution_count": null,
      "metadata": {
        "id": "dGPdFvm3s99h",
        "outputId": "3a8a632e-f3fc-4cc9-9666-9fa04d44bc39"
      },
      "outputs": [
        {
          "name": "stdout",
          "output_type": "stream",
          "text": [
            "['ArithmeticError', 'AssertionError', 'AttributeError', 'BaseException', 'BlockingIOError', 'BrokenPipeError', 'BufferError', 'BytesWarning', 'ChildProcessError', 'ConnectionAbortedError', 'ConnectionError', 'ConnectionRefusedError', 'ConnectionResetError', 'DeprecationWarning', 'EOFError', 'Ellipsis', 'EnvironmentError', 'Exception', 'False', 'FileExistsError', 'FileNotFoundError', 'FloatingPointError', 'FutureWarning', 'GeneratorExit', 'IOError', 'ImportError', 'ImportWarning', 'IndentationError', 'IndexError', 'InterruptedError', 'IsADirectoryError', 'KeyError', 'KeyboardInterrupt', 'LookupError', 'MemoryError', 'ModuleNotFoundError', 'NameError', 'None', 'NotADirectoryError', 'NotImplemented', 'NotImplementedError', 'OSError', 'OverflowError', 'PendingDeprecationWarning', 'PermissionError', 'ProcessLookupError', 'RecursionError', 'ReferenceError', 'ResourceWarning', 'RuntimeError', 'RuntimeWarning', 'StopAsyncIteration', 'StopIteration', 'SyntaxError', 'SyntaxWarning', 'SystemError', 'SystemExit', 'TabError', 'TimeoutError', 'True', 'TypeError', 'UnboundLocalError', 'UnicodeDecodeError', 'UnicodeEncodeError', 'UnicodeError', 'UnicodeTranslateError', 'UnicodeWarning', 'UserWarning', 'ValueError', 'Warning', 'ZeroDivisionError', '__IPYTHON__', '__build_class__', '__debug__', '__doc__', '__import__', '__loader__', '__name__', '__package__', '__spec__', 'abs', 'all', 'any', 'ascii', 'bin', 'bool', 'breakpoint', 'bytearray', 'bytes', 'callable', 'chr', 'classmethod', 'compile', 'complex', 'copyright', 'credits', 'delattr', 'dict', 'dir', 'display', 'divmod', 'enumerate', 'eval', 'exec', 'filter', 'float', 'format', 'frozenset', 'get_ipython', 'getattr', 'globals', 'hasattr', 'hash', 'help', 'hex', 'id', 'input', 'int', 'isinstance', 'issubclass', 'iter', 'len', 'license', 'list', 'locals', 'map', 'max', 'memoryview', 'min', 'next', 'object', 'oct', 'open', 'ord', 'pow', 'print', 'property', 'range', 'repr', 'reversed', 'round', 'set', 'setattr', 'slice', 'sorted', 'staticmethod', 'str', 'sum', 'super', 'tuple', 'type', 'vars', 'zip']\n"
          ]
        }
      ],
      "source": [
        "print(dir(__builtins__))"
      ]
    },
    {
      "cell_type": "code",
      "execution_count": null,
      "metadata": {
        "scrolled": true,
        "id": "3pCGkoJLs99h",
        "outputId": "dd8a007c-d499-469f-9b78-9b536ef06e59"
      },
      "outputs": [
        {
          "name": "stdout",
          "output_type": "stream",
          "text": [
            "['__add__', '__class__', '__contains__', '__delattr__', '__delitem__', '__dir__', '__doc__', '__eq__', '__format__', '__ge__', '__getattribute__', '__getitem__', '__gt__', '__hash__', '__iadd__', '__imul__', '__init__', '__init_subclass__', '__iter__', '__le__', '__len__', '__lt__', '__mul__', '__ne__', '__new__', '__reduce__', '__reduce_ex__', '__repr__', '__reversed__', '__rmul__', '__setattr__', '__setitem__', '__sizeof__', '__str__', '__subclasshook__', 'append', 'clear', 'copy', 'count', 'extend', 'index', 'insert', 'pop', 'remove', 'reverse', 'sort']\n"
          ]
        }
      ],
      "source": [
        "print(dir(list))"
      ]
    },
    {
      "cell_type": "markdown",
      "metadata": {
        "id": "uGyR3-UOs99i"
      },
      "source": [
        "### вкладені списки"
      ]
    },
    {
      "cell_type": "code",
      "execution_count": null,
      "metadata": {
        "id": "d78GwVwNs99i"
      },
      "outputs": [],
      "source": [
        "spisok = [[1, 2], [3, 4]]\n",
        "print (spisok[0])\n",
        "print (spisok[0][1])"
      ]
    },
    {
      "cell_type": "code",
      "execution_count": 4,
      "metadata": {
        "run_control": {
          "marked": false
        },
        "colab": {
          "base_uri": "https://localhost:8080/"
        },
        "id": "M7p6RBrts99j",
        "outputId": "324a4efa-cc7f-4610-b36c-08167ee6f9cb"
      },
      "outputs": [
        {
          "output_type": "stream",
          "name": "stdout",
          "text": [
            "[[1, 2, 3], [42, 5, 6], [7, 8, 9]]\n",
            "[[1, 2, 5], [42, 3, 6], [7, 8, 9]]\n"
          ]
        }
      ],
      "source": [
        "### ЗАВДАННЯ 4: \n",
        "# 1) створити вкладений список [[1,2,3], [4,5,6], [7,8,9]]\n",
        "# 2) написати код що замінює 4-ку на 42\n",
        "# 3) написати код що міняє місцями 3-ку та 5-ку\n",
        "\n",
        "lst = [[1,2,3], [4,5,6], [7,8,9]]\n",
        "lst[1][0] = 42 # замінює 4-ку на 42\n",
        "print(lst)\n",
        "\n",
        "lst[0][2], lst[1][1] = lst[1][1], lst[0][2] # міняє місцями 3-ку та 5-ку\n",
        "print(lst)"
      ]
    },
    {
      "cell_type": "markdown",
      "metadata": {
        "id": "uHQ3fLavs99j"
      },
      "source": [
        "## Кортежі - tuples"
      ]
    },
    {
      "cell_type": "markdown",
      "metadata": {
        "id": "a17mBX5hs99k"
      },
      "source": [
        "__Кортеж__ - це _незмінна_ структура послідовних даних в круглих дужках"
      ]
    },
    {
      "cell_type": "code",
      "execution_count": null,
      "metadata": {
        "id": "g6epD7xJs99k"
      },
      "outputs": [],
      "source": [
        "k = ()    # пустий котреж\n",
        "k1 = (23,) # одноелементний кортеж\n",
        "kn = (1, 2, \"Вася\", [43, 1.2], (55, \"39\"))"
      ]
    },
    {
      "cell_type": "code",
      "execution_count": null,
      "metadata": {
        "id": "i_K8V37Us99k"
      },
      "outputs": [],
      "source": []
    },
    {
      "cell_type": "code",
      "execution_count": null,
      "metadata": {
        "id": "bSNADT-Ks99k",
        "outputId": "d9d14bf4-54a5-4d3d-cfda-2f7d3884de94"
      },
      "outputs": [
        {
          "name": "stdout",
          "output_type": "stream",
          "text": [
            "<class 'tuple'>\n"
          ]
        }
      ],
      "source": [
        "print(type(k))"
      ]
    },
    {
      "cell_type": "markdown",
      "metadata": {
        "id": "fHoybeKvs99l"
      },
      "source": [
        "#### відмінність від списків"
      ]
    },
    {
      "cell_type": "code",
      "execution_count": null,
      "metadata": {
        "id": "BGAORIMAs99l",
        "outputId": "5e4f3161-e5d1-40ad-d330-8c6e88b567d0"
      },
      "outputs": [
        {
          "name": "stdout",
          "output_type": "stream",
          "text": [
            "56\n",
            "40\n"
          ]
        }
      ],
      "source": [
        "l = [1, 2]\n",
        "k = (1, 2)\n",
        "print(l.__sizeof__())\n",
        "print(k.__sizeof__())"
      ]
    },
    {
      "cell_type": "code",
      "execution_count": null,
      "metadata": {
        "scrolled": true,
        "id": "s9LMl1aps99l",
        "outputId": "70f1c595-aff9-4594-a4c7-73db3c146103"
      },
      "outputs": [
        {
          "name": "stdout",
          "output_type": "stream",
          "text": [
            "[1, 2] 4532933008\n",
            "[1, 2, 3] 4532933008\n"
          ]
        }
      ],
      "source": [
        "print (l, id(l))\n",
        "l += [3]\n",
        "print (l, id(l))"
      ]
    },
    {
      "cell_type": "code",
      "execution_count": null,
      "metadata": {
        "scrolled": true,
        "id": "3dl-DRPEs99l",
        "outputId": "0daf7d47-b82f-4e0d-e0f7-98f1068603b2"
      },
      "outputs": [
        {
          "name": "stdout",
          "output_type": "stream",
          "text": [
            "(1, 2) 4529662304\n",
            "(1, 2, 3) 4531036640\n"
          ]
        }
      ],
      "source": [
        "print (k, id(k))\n",
        "k += (3,)\n",
        "print (k, id(k))"
      ]
    },
    {
      "cell_type": "code",
      "execution_count": null,
      "metadata": {
        "id": "ZeRHHXXQs99l",
        "outputId": "5792cc61-bc27-48fb-8e15-a9b297ac80af"
      },
      "outputs": [
        {
          "name": "stdout",
          "output_type": "stream",
          "text": [
            "[1, 2, 3, 4]\n"
          ]
        }
      ],
      "source": [
        "l.append(4)\n",
        "print(l)"
      ]
    }
  ],
  "metadata": {
    "kernelspec": {
      "display_name": "Python 3",
      "language": "python",
      "name": "python3"
    },
    "language_info": {
      "codemirror_mode": {
        "name": "ipython",
        "version": 3
      },
      "file_extension": ".py",
      "mimetype": "text/x-python",
      "name": "python",
      "nbconvert_exporter": "python",
      "pygments_lexer": "ipython3",
      "version": "3.7.4"
    },
    "colab": {
      "provenance": [],
      "include_colab_link": true
    }
  },
  "nbformat": 4,
  "nbformat_minor": 0
}