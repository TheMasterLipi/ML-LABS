{
 "cells": [
  {
   "cell_type": "code",
   "execution_count": null,
   "metadata": {},
   "outputs": [],
   "source": [
    "# 1. За допомогою зовнішніх команд:\n",
    "# вивести ім'я користувача (whoami) - ім'я: egorb\n",
    "\n",
    "# створити пустий текстовий файл з ім'ям <ваш_логін>.txt - Команда: New-Item -ItemType File -Name \"egorb.txt\"\n",
    "# записати в нього речення: \"<Ваше прізвище> - є студентом <номер групи> групи ФІТ\" - Команда: Set-Content \"egorb.txt\" \"Бригинець Єгор - є студентом 1-12 групи ФІТ\"\n",
    "# вивести вміст текстового файлу в  поточну комірку - Команда: Get-Content \"egorb.txt\" | Set-Content \"C:\\Users\\egorb\\OneDrive\\Рабочий стол\\IT work\\Machine Learning\\egorb.txt\"\n",
    "# Вивести вміст своєї робочої папки - Команда: Get-ChildItem\n",
    "\n",
    "#2. Використовуючи магічні функції\n",
    "# вивести лог 5 попередніх команд (history) - команда: Get-History -Count 5\n",
    "# завантажити наступний ресурс:\n",
    "#  https://raw.githubusercontent.com/jupyter/notebook/master/README.md\n",
    "# pip install notebook\n",
    "\n",
    "\n",
    "\n",
    "\n"
   ]
  },
  {
   "cell_type": "code",
   "execution_count": null,
   "metadata": {},
   "outputs": [],
   "source": [
    "# заміряти середній час виконання наступного виразу:\n",
    "# у = 10000**1000\n",
    "# Час виконання: 0.00007200 секунд\n",
    "import time\n",
    "\n",
    "start_time = time.time()\n",
    "у = 10000**1000\n",
    "end_time = time.time()\n",
    "\n",
    "total_time = end_time - start_time\n",
    "print(f\"Час виконання: {total_time:.8f} секунд\")\n"
   ]
  },
  {
   "attachments": {},
   "cell_type": "markdown",
   "metadata": {},
   "source": [
    "### Завдання\n",
    "\n",
    "1. Використовуючи данні нижче наведеної таблиці проаналізувати динаміку курсу долару США за 11 періодів та спрогнозувати курс долару на 2-й на основі логарифмічної регресії. \n",
    "\n",
    "| Період | 1 | 2 | 3 | 4 | 5 | 6 | 7 | 8 | 9 | 10 | 11 |\n",
    "| ------ | - | - | - | - | - | - | - | - | - | -- | -- |\n",
    "| Курс   | 3,89 | 4,48 | 5,0 | 5,50 | 5,81 | 5,71 | 5,93 | 5,84 | 6,15 | 5,97 | 6,22 |"
   ]
  },
  {
   "attachments": {},
   "cell_type": "markdown",
   "metadata": {},
   "source": [
    "$$min\\sum_{i=1}^{11}(y_{i} - \\alpha \\ln(x_{i})-b)^2$$"
   ]
  },
  {
   "cell_type": "code",
   "execution_count": null,
   "metadata": {},
   "outputs": [],
   "source": [
    "# git init - створення репозиторію\n",
    "# git checkout -b task_4 - створення гілки і перехід в неї\n",
    "# git add lab1.ipynb - додати файл\n",
    "# git commit -m test - додати зміни до комміту за допомогою\n",
    "# git checkout main - переключитися на гілку main\n",
    "# git merge task_4 - Змержити гілку task_4 в гілку main (або master):\n",
    "# git commit -m \"Merge task_4 branch into main\" - зберегти зміни\n",
    "# git remote add task_4 https://github.com/TheMasterLipi/ML-LABS.git - Пуш на власний  репозиторій\n",
    "# git remote show origin - перевіряємо пуш\n",
    "\n"
   ]
  }
 ],
 "metadata": {
  "kernelspec": {
   "display_name": "Python 3",
   "language": "python",
   "name": "python3"
  },
  "language_info": {
   "name": "python",
   "version": "3.9.13"
  },
  "orig_nbformat": 4,
  "vscode": {
   "interpreter": {
    "hash": "68f4a859a215184c75601aeab269079375f00483ebeea17115b1e9fe95b9dc23"
   }
  }
 },
 "nbformat": 4,
 "nbformat_minor": 2
}
