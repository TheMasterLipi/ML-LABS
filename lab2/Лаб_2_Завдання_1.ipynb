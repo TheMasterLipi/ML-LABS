{
  "cells": [
    {
      "cell_type": "markdown",
      "metadata": {
        "id": "view-in-github",
        "colab_type": "text"
      },
      "source": [
        "<a href=\"https://colab.research.google.com/github/TheMasterLipi/ML-LABS/blob/main/%D0%9B%D0%B0%D0%B1_2_%D0%97%D0%B0%D0%B2%D0%B4%D0%B0%D0%BD%D0%BD%D1%8F_1.ipynb\" target=\"_parent\"><img src=\"https://colab.research.google.com/assets/colab-badge.svg\" alt=\"Open In Colab\"/></a>"
      ]
    },
    {
      "cell_type": "markdown",
      "metadata": {
        "id": "BC0xqppWici_"
      },
      "source": [
        "#  Лабораторна робота №2\n",
        "### навчально-методичний додаток\n",
        "***"
      ]
    },
    {
      "cell_type": "markdown",
      "metadata": {
        "id": "jySjA-x_icjC"
      },
      "source": [
        "## Завдання №1 \" Конструкції Python\"\n",
        "- заповнити пусті рядки вашим рішенням"
      ]
    },
    {
      "cell_type": "markdown",
      "metadata": {
        "id": "89VFz29picjC"
      },
      "source": [
        "### Змінні\n",
        "\n",
        "Ім'я, яке використовується для позначення чогось або значення, називається **змінною**. У python можна оголошувати змінні і присвоювати йому значення наступним чином:\n",
        "\n",
        "- x = 10             \n",
        "- y = -3.1428         \n",
        "- s = \"Вася Пупкін\"\n",
        "- a = [x, y, s]\n",
        "- b = False\n",
        "- t = (y, \"Студент\")\n",
        "\n",
        "---\n",
        "_[Прочитати про типи даних](https://uk.education-wiki.com/2923901-python-data-types)_\n",
        "\n",
        "Тип даних можна перевірити наступною інструкцією: `type(<імя змінної>)`"
      ]
    },
    {
      "cell_type": "code",
      "execution_count": null,
      "metadata": {
        "run_control": {
          "marked": false
        },
        "id": "WO45ImwcicjD"
      },
      "outputs": [],
      "source": [
        "# виконайте присвоювання та виведіть типи даних x, y, s, b, t:\n",
        "x = 10\n",
        "y = -3.1428\n",
        "s = \"Вася Пупкін\"\n",
        "a = [x, y, s]\n",
        "b = False\n",
        "t = (y, \"Студент\")\n",
        "print(type(x))\n",
        "print(type(y))\n",
        "print(type(s))\n",
        "print(type(a))\n",
        "print(type(b))\n",
        "print(type(t))"
      ]
    },
    {
      "cell_type": "markdown",
      "metadata": {
        "heading_collapsed": true,
        "id": "iGg8GgYoicjD"
      },
      "source": [
        "### Опрератори\n",
        "\n",
        "#### арифметичні\n",
        "\n",
        "| Позначка | Виконує |\n",
        "|----|---|\n",
        "| +  | Додавання |\n",
        "| -  | Віднімання |\n",
        "| /  | поділ |\n",
        "| %  | остаток від ділення |\n",
        "| *  | множення |\n",
        "| //  | цілочісельне ділення |\n",
        "| **  | ступінь |"
      ]
    },
    {
      "cell_type": "code",
      "execution_count": null,
      "metadata": {
        "hidden": true,
        "id": "Bd04zXkyicjE"
      },
      "outputs": [],
      "source": [
        "# застосуйте вищенаведені оператори до `x` та `y`:\n",
        "x = 10\n",
        "y = -3.1428\n",
        "print(x+y)\n",
        "print(x-y)\n",
        "print(x/y)\n",
        "print(x%y)\n",
        "print(x*y)\n",
        "print(x//y)\n",
        "print(x**y)"
      ]
    },
    {
      "cell_type": "markdown",
      "metadata": {
        "hidden": true,
        "id": "SAcrdGh-icjE"
      },
      "source": [
        "#### порівняння\n",
        "| Позначка | Результат |\n",
        "|----|---|\n",
        "| == | True, якщо рівні |\n",
        "| !=  | True, якщо не рівні |\n",
        "| < | менше |\n",
        "| > | більше |\n",
        "| <=  | менше чи равно |\n",
        "| >=  | більше чи равно |"
      ]
    },
    {
      "cell_type": "code",
      "execution_count": null,
      "metadata": {
        "hidden": true,
        "id": "xuvA_3AuicjE"
      },
      "outputs": [],
      "source": [
        "# застосуйте вищенаведені оператори до `x` та `y`:\n",
        "x = 10\n",
        "y = -3.1428\n",
        "\n",
        "\n",
        "print(x > y)   \n",
        "print(x < y)   \n",
        "print(x == y)  \n",
        "print(x != y)  \n",
        "print(x >= y)  \n",
        "print(x <= y)  \n"
      ]
    },
    {
      "cell_type": "markdown",
      "metadata": {
        "id": "-ew6LdjNicjF"
      },
      "source": [
        "### Вбудовані функції перетворення типів\n",
        "1. str(<змінна чи вираз>) - перетворення в строку\n",
        "2. int(<змінна чи вираз>) - перетворення в ціле\n",
        "3. float(<змінна чи вираз>) - перетворення в дийсне число\n",
        "\n",
        "[Прочитати про інші функції перетворення типів](http://nikolay.in.ua/navchaemos/python-3/612-tipi-danikh-funktsiji-peretvorennya-tipiv-operatsiji-z-chislovimi-tipami)\n"
      ]
    },
    {
      "cell_type": "code",
      "execution_count": 1,
      "metadata": {
        "colab": {
          "base_uri": "https://localhost:8080/"
        },
        "id": "VWuUc7dNicjF",
        "outputId": "19bac623-96b1-4015-a7f0-583efa9ea80e"
      },
      "outputs": [
        {
          "output_type": "stream",
          "name": "stdout",
          "text": [
            "<class 'int'>\n",
            "<class 'float'>\n",
            "<class 'str'>\n",
            "<class 'list'>\n",
            "<class 'bool'>\n",
            "<class 'tuple'>\n",
            "6.857200000000001\n",
            "13.1428\n",
            "-3.1818760341097114\n",
            "-2.5711999999999993\n",
            "-31.427999999999997\n",
            "-4.0\n",
            "0.0007197803728026997\n",
            "True\n",
            "False\n",
            "False\n",
            "True\n",
            "True\n",
            "False\n",
            "55\n",
            "66\n",
            "77\n",
            "<class 'str'>\n",
            "<class 'str'>\n",
            "<class 'str'>\n"
          ]
        }
      ],
      "source": [
        "# застосуйте (1) функцію до змінних 'x' - 't' , (2) до `x` - 's', (3) - `x` - `y`\n",
        "# (якщо будуть помилки - виправте їх самотуж)\n",
        "\n",
        "x = 10\n",
        "y = -3.1428\n",
        "s = \"Вася Пупкін\"\n",
        "a = [x, y, s]\n",
        "b = False\n",
        "t = (y, \"Студент\")\n",
        "\n",
        "print(type(x))\n",
        "print(type(y))\n",
        "print(type(s))\n",
        "print(type(a))\n",
        "print(type(b))\n",
        "print(type(t))\n",
        "\n",
        "x = 10\n",
        "y = -3.1428\n",
        "s = \"Вася Пупкін\"\n",
        "a = [x, y, s]\n",
        "b = False\n",
        "t = (y, \"Студент\")\n",
        "\n",
        "print(x + y)\n",
        "print(x - y)\n",
        "print(x / y)\n",
        "print(x % y)\n",
        "print(x * y)\n",
        "print(x // y)\n",
        "print(x ** y)\n",
        "\n",
        "x = 10\n",
        "y = -3.1428\n",
        "\n",
        "print(x > y)   \n",
        "print(x < y)   \n",
        "print(x == y)  \n",
        "print(x != y)  \n",
        "print(x >= y)  \n",
        "print(x <= y)  \n",
        "\n",
        "x = 10\n",
        "y = -3.1428\n",
        "\n",
        "s1 = input()\n",
        "s2 = input()\n",
        "s3 = input()\n",
        "\n",
        "x, t, s = s1, s2, s3\n",
        "\n",
        "print(type(x))\n",
        "print(type(t))\n",
        "print(type(s))\n"
      ]
    },
    {
      "cell_type": "markdown",
      "metadata": {
        "id": "A52mLZE5icjF"
      },
      "source": [
        "## Завдання №3 \"Введення/вивід з консолі\"\n"
      ]
    },
    {
      "cell_type": "markdown",
      "metadata": {
        "id": "T8OExeV3icjF"
      },
      "source": [
        "- __input__([символьний вираз]) - введення с консолі в _символьному форматі_ (__STDIN__) \n",
        "- __print__(<вираз>) - виведення в консоль (__STDOUT__)\n",
        "\n",
        "Для зчитування рядка зі стандартного вводу використовується функція input (), яка зчитує рядок з клавіатури і повертає значення, яке відразу ж можна привласнити змінним:\n",
        "`s = input()`\n",
        "\n",
        "Функція `input` повертає текстовий рядок. Якщо потрібно зробити так, щоб змінні мали чисельні значення, то відразу ж після зчитування виконаємо перетворення типів за допомогою функції `int` або `float`, і запишемо нове значення:\n",
        "`s1 = int(s)`\n",
        "\n",
        "Краще об'єднати зчитування рядків і перетворення типів, якщо викликати функцію int/float для того значення, яке поверне функція input ():\n",
        "`s = int(input())`"
      ]
    },
    {
      "cell_type": "code",
      "execution_count": null,
      "metadata": {
        "id": "DiqwDMGNicjG"
      },
      "outputs": [],
      "source": [
        "# ввести з консолі число 2.71 в змінну 'e'\n",
        "е = float(input(\"Enter a number: \"))"
      ]
    },
    {
      "cell_type": "code",
      "execution_count": 5,
      "metadata": {
        "colab": {
          "base_uri": "https://localhost:8080/"
        },
        "id": "_8oKpDlnicjG",
        "outputId": "cce776f4-0e90-4b27-f895-fd91fd98600d"
      },
      "outputs": [
        {
          "output_type": "stream",
          "name": "stdout",
          "text": [
            "146.1660310351\n"
          ]
        }
      ],
      "source": [
        "# вивести в консоль 'е' в супені 5\n",
        "e = 2.71\n",
        "print(e ** 5)\n"
      ]
    },
    {
      "cell_type": "markdown",
      "metadata": {
        "id": "xDv4wXVDicjG"
      },
      "source": [
        "#### форматування  при виведенні\n",
        "у Python для позначення рядка використовуються одинарні, подвійні та потрійні лапки. Більшість використовують одинарні лапки при оголошенні одного символу. Подвійні лапки при оголошенні рядка та потрійні лапки при оголошенні абзацу / кількох рядків.\n",
        "\n",
        "- 'A' - одиночний символ\n",
        "- \"Студент Вася\" - рядок символів\n",
        "- \"\"\" Перший рядок \n",
        "    \n",
        "      Другий рядок\n",
        "      \n",
        "      ...\"\"\"\n"
      ]
    },
    {
      "cell_type": "code",
      "execution_count": 7,
      "metadata": {
        "colab": {
          "base_uri": "https://localhost:8080/"
        },
        "id": "t95l_cx8icjG",
        "outputId": "0d0dc6dc-729e-4b89-ec2c-2c2fb1d88a97"
      },
      "outputs": [
        {
          "output_type": "stream",
          "name": "stdout",
          "text": [
            "Вася Пупкін\n",
            "1+1 -> 2\n"
          ]
        }
      ],
      "source": [
        "# Рядки можуть бути призначені змінним наприкалд `name` та `surname`, \n",
        "# які можна викликати при використанні оператора print.\n",
        "# Виконайте код, який наведено нижче\n",
        "name = \"Вася\"\n",
        "surname = \"Пупкін\"\n",
        "print (name, surname)\n",
        "print(\"1+1\", 2, sep=\" -> \")"
      ]
    },
    {
      "cell_type": "markdown",
      "metadata": {
        "id": "g47Q3E-LicjH"
      },
      "source": [
        "Напишіть нижче, для чого нужна '`,`' та `sep` в функції `print()`:\n",
        "\n",
        "..."
      ]
    },
    {
      "cell_type": "markdown",
      "metadata": {
        "id": "ddYs6_T2icjH"
      },
      "source": [
        "### форматування в функції `print()`\n",
        "\n",
        "[Прочитати про методи форматування вивода](https://python-scripts.com/string-formatting)"
      ]
    },
    {
      "cell_type": "code",
      "execution_count": null,
      "metadata": {
        "run_control": {
          "marked": false
        },
        "id": "n5XvtXCticjH"
      },
      "outputs": [],
      "source": [
        "# виконати код та розібратись, чому функція `print()...format` спрацювала таким чином\n",
        "print(\"{} {} - це студент\".format(name, surname))\n",
        "print(\"Результат буде = {}\".format(42 / 5 + 4))\n",
        "b = True\n",
        "print(\"{} - {} хлопець!\".format(name, b))\n",
        "print(\"{} {}\".format(surname, name))"
      ]
    },
    {
      "cell_type": "markdown",
      "metadata": {
        "id": "jUxh9UH2icjH"
      },
      "source": [
        "## Завдання №4 \"Керування обчисленнями\""
      ]
    },
    {
      "cell_type": "markdown",
      "metadata": {
        "run_control": {
          "marked": false
        },
        "id": "th7gQyawicjH"
      },
      "source": [
        "### Умовний оператор if / if-else / if-elif"
      ]
    },
    {
      "cell_type": "markdown",
      "metadata": {
        "id": "a6xcDrdqicjH"
      },
      "source": [
        "`if <логічний вираз(умова)> :\n",
        "  <код>`\n",
        "  \n",
        "`if <логічний вираз(умова)> :\n",
        "  <код>\n",
        " else :\n",
        "    <код>`\n",
        "\n",
        "`if <логічний вираз(умова)> :\n",
        "  <код>\n",
        " elif <логічний вираз_1(умова)> :\n",
        "  <код>\n",
        " elif <логічний вираз_2(умова)> :\n",
        "  <код>\n",
        "... \n",
        " [else] :\n",
        "   <код>`"
      ]
    },
    {
      "cell_type": "code",
      "execution_count": 11,
      "metadata": {
        "colab": {
          "base_uri": "https://localhost:8080/"
        },
        "id": "JETB2mogicjI",
        "outputId": "b553996c-aaf3-462a-8d66-4bbdb30d626c"
      },
      "outputs": [
        {
          "output_type": "stream",
          "name": "stdout",
          "text": [
            "Введи x: 4\n",
            "4\n",
            "4\n"
          ]
        }
      ],
      "source": [
        "x = int(input(\"Введи x: \"))\n",
        "\n",
        "# ----- 1 ----------\n",
        "if x > 5:\n",
        "    print (x)\n",
        "    \n",
        "# ----- 2 ----------    \n",
        "if -5 < x < 5 :\n",
        "    print (x)\n",
        "else:\n",
        "    print (x ** 2)\n",
        "    \n",
        "# ----- 3 ----------\n",
        "if x > -5:\n",
        "    print (x)\n",
        "elif -5 < x < 5:\n",
        "    print (x ** 2)\n",
        "elif x > 5:\n",
        "    print (x ** (1/2))"
      ]
    },
    {
      "cell_type": "markdown",
      "metadata": {
        "id": "lZRbfohpicjI"
      },
      "source": [
        "напишіть, який __if__ спрацював при:\n",
        "\n",
        "x = -20     спрацював if:3\n",
        "\n",
        "x = 31.5    спрацював if:1\n",
        "\n",
        "x = 4       спрацював if:2"
      ]
    },
    {
      "cell_type": "code",
      "execution_count": 14,
      "metadata": {
        "colab": {
          "base_uri": "https://localhost:8080/"
        },
        "id": "Rs5QVSD9icjI",
        "outputId": "df425027-914d-424c-b0df-e6adfa99a7e6"
      },
      "outputs": [
        {
          "output_type": "stream",
          "name": "stdout",
          "text": [
            "Введіть вік: 18\n",
            "студент\n"
          ]
        }
      ],
      "source": [
        "# напишить нижче код, який виводить слово 'студент', 'школяр' або 'малятко' \n",
        "# в залежності від введенного через консоль віку\n",
        "\n",
        "age = int(input(\"Введіть вік: \"))\n",
        "if age >= 18:\n",
        "    print(\"студент\")\n",
        "elif age >= 6:\n",
        "    print(\"школяр\")\n",
        "else:\n",
        "    print(\"малятко\")"
      ]
    },
    {
      "cell_type": "markdown",
      "metadata": {
        "id": "yo74UtcTicjI"
      },
      "source": [
        "### Цикли"
      ]
    },
    {
      "cell_type": "markdown",
      "metadata": {
        "id": "GDdEG0BnicjI"
      },
      "source": [
        "#### for\n",
        "\n",
        "`for <змінна> in <перераховуємий об'єкт>\n",
        "    код`\n",
        "    \n",
        "    \n",
        "__перераховуємий об'єкт__ - це об'єкт, який складається із декількох послідовних складових (чисел, строк та ін.)\n",
        "\n",
        "- 1, 13, -10, 321\n",
        "- \"Вася\", \"Пупкін\", \"студент\"\n",
        "- \"Вася\", -10.1, True\n",
        "\n",
        "[Прочитати про функцію `range`](https://python-scripts.com/range)"
      ]
    },
    {
      "cell_type": "code",
      "execution_count": 15,
      "metadata": {
        "colab": {
          "base_uri": "https://localhost:8080/"
        },
        "id": "h4l8Xk0KicjJ",
        "outputId": "bfd31d80-c1dd-4d35-f359-c7f708f78363"
      },
      "outputs": [
        {
          "output_type": "stream",
          "name": "stdout",
          "text": [
            "-1\n",
            "-3\n",
            "-5\n",
            "-7\n",
            "-9\n"
          ]
        }
      ],
      "source": [
        "# приклад цикла з 'for' та 'if'\n",
        "for i in range(10):\n",
        "    if i % 2 != 0:\n",
        "        print (-i)\n",
        "    else:\n",
        "        pass"
      ]
    },
    {
      "cell_type": "markdown",
      "metadata": {
        "id": "U85kUY-XicjJ"
      },
      "source": [
        "напишить своїми словами, що виконує наведений вище код\n",
        "\n",
        "Код вище вище виконує ділення з остатком що виводить негативні непарні числа"
      ]
    },
    {
      "cell_type": "code",
      "execution_count": 19,
      "metadata": {
        "colab": {
          "base_uri": "https://localhost:8080/"
        },
        "id": "eJezJxGDicjJ",
        "outputId": "88f8869d-8d95-4c4a-f5dd-30a532b4cc9f"
      },
      "outputs": [
        {
          "output_type": "stream",
          "name": "stdout",
          "text": [
            "1665\n"
          ]
        }
      ],
      "source": [
        "# напишіть нижче код, який сумує числа, які діляться без остатка на 3 \n",
        "# в інтервалі від 10 до 100\n",
        "sum = 0\n",
        "for i in range(10, 101):\n",
        "    if i // 3 == 0:\n",
        "        sum += i\n",
        "print(sum)"
      ]
    },
    {
      "cell_type": "markdown",
      "metadata": {
        "id": "cRJfytwjicjJ"
      },
      "source": [
        "#### while\n",
        "\n",
        "[прочитати про цикл while](https://pythonru.com/osnovy/cikl-while-v-python)"
      ]
    },
    {
      "cell_type": "code",
      "execution_count": 24,
      "metadata": {
        "colab": {
          "base_uri": "https://localhost:8080/"
        },
        "id": "NWvpWa0cicjJ",
        "outputId": "e1278471-56ff-4716-cdde-c9422adb8a17"
      },
      "outputs": [
        {
          "name": "stdout",
          "output_type": "stream",
          "text": [
            "тисни тут: 5\n",
            "було введено\n",
            "тисни тут: 4\n",
            "було введено\n",
            "тисни тут: 2\n",
            "було введено\n",
            "тисни тут: 0\n"
          ]
        }
      ],
      "source": [
        "# запустіть цей код \n",
        "while(input(\"тисни тут: \") != '0'):\n",
        "    print (\"було введено\")"
      ]
    },
    {
      "cell_type": "markdown",
      "metadata": {
        "id": "GiM07ZlPicjN"
      },
      "source": [
        "поясніть своїми словами, що виконує наведений вище код\n",
        "\n",
        "Код представляє нескінчений цикл до того як користувач введе 0\n",
        "..."
      ]
    },
    {
      "cell_type": "code",
      "execution_count": 22,
      "metadata": {
        "colab": {
          "base_uri": "https://localhost:8080/"
        },
        "id": "OXbPvAfvicjN",
        "outputId": "b8834593-171b-44a3-b0bd-fe0e42d6f043"
      },
      "outputs": [
        {
          "output_type": "stream",
          "name": "stdout",
          "text": [
            "Сума чисел, кратних 3, між 10 та 100 дорівнює 1665\n"
          ]
        }
      ],
      "source": [
        "# використовуючи 'while`напишіть нижче код, який сумує числа, \n",
        "# які діляться без остатка на 3 в інтервалі від 10 до 100\n",
        "\n",
        "sum = 0\n",
        "i = 10\n",
        "while i <= 100:\n",
        "    if i % 3 == 0:\n",
        "        sum += i\n",
        "    i += 1\n",
        "print(\"Сума чисел, кратних 3, між 10 та 100 дорівнює\", sum)"
      ]
    },
    {
      "cell_type": "markdown",
      "metadata": {
        "id": "lQTABBvIicjN"
      },
      "source": [
        "## Виконану роботу перешліть через Teams викладачу"
      ]
    },
    {
      "cell_type": "markdown",
      "source": [],
      "metadata": {
        "id": "6KeMYbAmp4fi"
      }
    }
  ],
  "metadata": {
    "kernelspec": {
      "display_name": "Python 3",
      "language": "python",
      "name": "python3"
    },
    "language_info": {
      "codemirror_mode": {
        "name": "ipython",
        "version": 3
      },
      "file_extension": ".py",
      "mimetype": "text/x-python",
      "name": "python",
      "nbconvert_exporter": "python",
      "pygments_lexer": "ipython3",
      "version": "3.9.4"
    },
    "varInspector": {
      "cols": {
        "lenName": 16,
        "lenType": 16,
        "lenVar": 40
      },
      "kernels_config": {
        "python": {
          "delete_cmd_postfix": "",
          "delete_cmd_prefix": "del ",
          "library": "var_list.py",
          "varRefreshCmd": "print(var_dic_list())"
        },
        "r": {
          "delete_cmd_postfix": ") ",
          "delete_cmd_prefix": "rm(",
          "library": "var_list.r",
          "varRefreshCmd": "cat(var_dic_list()) "
        }
      },
      "types_to_exclude": [
        "module",
        "function",
        "builtin_function_or_method",
        "instance",
        "_Feature"
      ],
      "window_display": false
    },
    "colab": {
      "provenance": [],
      "include_colab_link": true
    }
  },
  "nbformat": 4,
  "nbformat_minor": 0
}
